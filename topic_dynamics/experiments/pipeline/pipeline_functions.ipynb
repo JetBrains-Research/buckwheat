{
 "cells": [
  {
   "cell_type": "markdown",
   "metadata": {},
   "source": [
    "Import necessary **modules**:"
   ]
  },
  {
   "cell_type": "code",
   "execution_count": 68,
   "metadata": {},
   "outputs": [],
   "source": [
    "%matplotlib inline\n",
    "import os\n",
    "import artm\n",
    "import matplotlib.pyplot as plt\n",
    "import pandas as pd\n",
    "import numpy as np\n",
    "import csv\n",
    "from tqdm import tqdm\n",
    "from datetime import datetime, timedelta\n",
    "from tree_sitter import Language, Parser\n",
    "from glob import glob\n",
    "from collections import Counter\n",
    "from operator import itemgetter\n",
    "from typing import List, Tuple"
   ]
  },
  {
   "cell_type": "markdown",
   "metadata": {},
   "source": [
    "Write a function to get the dates."
   ]
  },
  {
   "cell_type": "code",
   "execution_count": 69,
   "metadata": {},
   "outputs": [],
   "source": [
    "def get_dates(number: int, delta: int) -> List:\n",
    "    \"\"\"\n",
    "    Creates a list of a given number of the datetime objects with a given step.\n",
    "    :param number: the amount of dates.\n",
    "    :param delta: the time step between dates\n",
    "    :return: a list of datetime objects.\n",
    "    \"\"\"\n",
    "    dates = []\n",
    "    date = datetime.now()\n",
    "    for i in range(number):\n",
    "        dates.append(date)\n",
    "        date = date - timedelta(days=delta)\n",
    "    dates.sort()\n",
    "    return dates"
   ]
  },
  {
   "cell_type": "code",
   "execution_count": 70,
   "metadata": {},
   "outputs": [
    {
     "name": "stdout",
     "output_type": "stream",
     "text": [
      "[datetime.datetime(2019, 10, 24, 20, 23, 12, 426345), datetime.datetime(2019, 11, 24, 20, 23, 12, 426345), datetime.datetime(2019, 12, 25, 20, 23, 12, 426345), datetime.datetime(2020, 1, 25, 20, 23, 12, 426345), datetime.datetime(2020, 2, 25, 20, 23, 12, 426345)]\n"
     ]
    }
   ],
   "source": [
    "dates = get_dates(5, 31)\n",
    "print(dates)"
   ]
  },
  {
   "cell_type": "markdown",
   "metadata": {},
   "source": [
    "Write a function to checkout a repository by date."
   ]
  },
  {
   "cell_type": "code",
   "execution_count": 19,
   "metadata": {},
   "outputs": [],
   "source": [
    "def checkout_by_date(repository: str, directory: str, date: datetime) -> None:\n",
    "    \"\"\"\n",
    "    Checkout a given repository into a folder for a given date and time.\n",
    "    :param repository: address of processed project.\n",
    "    :param directory: address of target directory for a checkout.\n",
    "    :param date: date and time of the last commit for the checkout\n",
    "    :return: None.\n",
    "    \"\"\"\n",
    "    os.system('cp -r ' + repository + ' ' + directory)\n",
    "    os.system('(cd ' + directory + '; git checkout `git rev-list -n 1 --before=\"' + date.strftime('%Y-%m-%d') + '\" master`)')\n",
    "    # TODO: consider non-master branches"
   ]
  },
  {
   "cell_type": "code",
   "execution_count": 20,
   "metadata": {},
   "outputs": [],
   "source": [
    "checkout_by_date('/home/diannao/java-design-patterns/', '/home/diannao/java-design-patterns_new', dates[2])"
   ]
  },
  {
   "cell_type": "markdown",
   "metadata": {},
   "source": [
    "Write a function to get the file extensions for various languages."
   ]
  },
  {
   "cell_type": "code",
   "execution_count": 22,
   "metadata": {},
   "outputs": [],
   "source": [
    "def get_extensions(lang: str) -> str:\n",
    "    \"\"\"\n",
    "    Returns the extension for a given language. TODO: more than one extension.\n",
    "    :param lang: language name.\n",
    "    :return: the extension.\n",
    "    \"\"\"\n",
    "    extensions = {'cpp': 'cpp',\n",
    "                  'java': 'java',\n",
    "                  'python': 'py'}\n",
    "    return extensions[lang]"
   ]
  },
  {
   "cell_type": "markdown",
   "metadata": {},
   "source": [
    "Write a function to get a list of files with a given extension from a directory."
   ]
  },
  {
   "cell_type": "code",
   "execution_count": 23,
   "metadata": {},
   "outputs": [],
   "source": [
    "def get_a_list_of_files(directory: str, extension: str) -> List[str]:\n",
    "    \"\"\"\n",
    "    Get a list of files with a given extension.\n",
    "    :param directory: the root directory that is studied.\n",
    "    :param extension: extension of the listed files.\n",
    "    :return: list of file paths.\n",
    "    \"\"\"\n",
    "    list_of_files = [y for x in os.walk(directory) for y in glob(os.path.join(x[0], '*.' + extension))]\n",
    "    return list_of_files"
   ]
  },
  {
   "cell_type": "code",
   "execution_count": 72,
   "metadata": {},
   "outputs": [
    {
     "data": {
      "text/plain": [
       "1"
      ]
     },
     "execution_count": 72,
     "metadata": {},
     "output_type": "execute_result"
    }
   ],
   "source": [
    "files = get_a_list_of_files('/home/diannao/PycharmProjects/topic-dynamics/topic_dynamics/tests/test_files/', 'java')\n",
    "len(files)"
   ]
  },
  {
   "cell_type": "markdown",
   "metadata": {},
   "source": [
    "Write a function to read the contents of the file."
   ]
  },
  {
   "cell_type": "code",
   "execution_count": 28,
   "metadata": {},
   "outputs": [],
   "source": [
    "def read_file(file: str) -> bytes:\n",
    "    \"\"\"\n",
    "    Read the contents of the file.\n",
    "    :param file: address of the file.\n",
    "    :return: bytes with the contents of the file.\n",
    "    \"\"\"\n",
    "    with open(file, 'r') as fin:\n",
    "        code = bytes(fin.read(), 'utf-8')\n",
    "    return code"
   ]
  },
  {
   "cell_type": "markdown",
   "metadata": {},
   "source": [
    "Write a function to get the positional bytes of the node."
   ]
  },
  {
   "cell_type": "code",
   "execution_count": 31,
   "metadata": {},
   "outputs": [],
   "source": [
    "def get_positional_bytes(node: tree_sitter.Node) -> Tuple[int, int]:\n",
    "    \"\"\"\n",
    "    Extract start and end byte.\n",
    "    :param node: node on the AST.\n",
    "    :return: (start byte, end byte)\n",
    "    \"\"\"\n",
    "    start = node.start_byte\n",
    "    end = node.end_byte\n",
    "    return start, end"
   ]
  },
  {
   "cell_type": "markdown",
   "metadata": {},
   "source": [
    "Write the utility functions for parsing."
   ]
  },
  {
   "cell_type": "code",
   "execution_count": 49,
   "metadata": {},
   "outputs": [],
   "source": [
    "PARSERS = {}\n",
    "\n",
    "\n",
    "def get_tree_sitter_dir() -> str:\n",
    "    \"\"\"\n",
    "    Get tree-sitter directory.\n",
    "    :return: absolute path.\n",
    "    \"\"\"\n",
    "    return '/home/diannao/PycharmProjects/topic-dynamics/topic_dynamics/parsers/'\n",
    "\n",
    "\n",
    "def get_tree_sitter_so() -> str:\n",
    "    \"\"\"\n",
    "    Get build tree-sitter `.so` location.\n",
    "    :return: absolute path.\n",
    "    \"\"\"\n",
    "    tree_sitter_dir = get_tree_sitter_dir()\n",
    "    bin_loc = os.path.join(tree_sitter_dir, \"build/langs.so\")\n",
    "    return bin_loc\n",
    "\n",
    "\n",
    "def main_parse() -> None:\n",
    "    \"\"\"\n",
    "    Initialize tree-sitter library.\n",
    "    :return: None\n",
    "    \"\"\"\n",
    "    # root directory for tree-sitter\n",
    "    tree_sitter_dir = get_tree_sitter_dir()\n",
    "    # grammar locations\n",
    "    c_grammar_loc = os.path.join(tree_sitter_dir, \"vendor/tree-sitter-c\")\n",
    "    c_sharp_grammar_loc = os.path.join(tree_sitter_dir, \"vendor/tree-sitter-c-sharp\")\n",
    "    cpp_grammar_loc = os.path.join(tree_sitter_dir, \"vendor/tree-sitter-cpp\")\n",
    "    java_grammar_loc = os.path.join(tree_sitter_dir, \"vendor/tree-sitter-java\")\n",
    "    python_grammar_loc = os.path.join(tree_sitter_dir, \"vendor/tree-sitter-python\")\n",
    "    # location for library\n",
    "    bin_loc = get_tree_sitter_so()\n",
    "    # build everything\n",
    "    Language.build_library(\n",
    "        # Store the library in the `bin_loc`\n",
    "        bin_loc,\n",
    "        # Include languages\n",
    "        [\n",
    "            c_grammar_loc,\n",
    "            c_sharp_grammar_loc,\n",
    "            cpp_grammar_loc,\n",
    "            java_grammar_loc,\n",
    "            python_grammar_loc\n",
    "        ]\n",
    "    )\n",
    "\n",
    "\n",
    "def get_parser(lang: str) -> Parser:\n",
    "    \"\"\"\n",
    "    Initialize parser for a specific language.\n",
    "    :param lang: language to use.\n",
    "    :return: parser.\n",
    "    \"\"\"\n",
    "    global PARSERS\n",
    "    if lang not in PARSERS:\n",
    "        parser = Parser()\n",
    "        parser.set_language(Language(get_tree_sitter_so(), lang))\n",
    "        PARSERS[lang] = parser\n",
    "    else:\n",
    "        parser = PARSERS[lang]\n",
    "    return parser\n"
   ]
  },
  {
   "cell_type": "markdown",
   "metadata": {},
   "source": [
    "Initialize the parsing."
   ]
  },
  {
   "cell_type": "code",
   "execution_count": 41,
   "metadata": {},
   "outputs": [],
   "source": [
    "main_parse()"
   ]
  },
  {
   "cell_type": "markdown",
   "metadata": {},
   "source": [
    "Write a function to get the identifiers of a file."
   ]
  },
  {
   "cell_type": "code",
   "execution_count": 74,
   "metadata": {},
   "outputs": [],
   "source": [
    "def get_identifiers(file: str, lang: str) -> List[Tuple[str, int]]:\n",
    "    \"\"\"\n",
    "    Gather a sorted list of identifiers in the file and their count.\n",
    "    :param file: address of the file.\n",
    "    :param lang: the language of file.\n",
    "    :return: a list of tuples, identifier and count.\n",
    "    \"\"\"\n",
    "    code = read_file(file)\n",
    "    tree = get_parser(lang).parse(code)\n",
    "    root = tree.root_node\n",
    "    identifiers = []\n",
    "    node_types = {'c': ['identifier', 'type_identifier'],\n",
    "                  'c-sharp': ['identifier', 'type_identifier'],\n",
    "                  'cpp': ['identifier', 'type_identifier'],\n",
    "                  'java': ['identifier', 'type_identifier'],\n",
    "                  'python': ['identifier', 'type_identifier']}\n",
    "\n",
    "    def traverse_tree(node: tree_sitter.Node) -> None:\n",
    "        \"\"\"\n",
    "        Run down the AST from a given node and gather identifiers from its childern.\n",
    "        :param node: starting node.\n",
    "        :return: None.\n",
    "        \"\"\"\n",
    "        for child in node.children:\n",
    "            if child.type in node_types[lang]:\n",
    "                start, end = get_positional_bytes(child)\n",
    "                identifier = code[start:end].decode('utf-8')\n",
    "                if '\\n' not in identifier:  # Will break output files. Can add other bad characters later\n",
    "                    identifiers.append(identifier)\n",
    "            if len(child.children) != 0:\n",
    "                traverse_tree(child)\n",
    "\n",
    "    traverse_tree(root)\n",
    "    sorted_identifiers = sorted(Counter(identifiers).items(), key=itemgetter(1), reverse=True)\n",
    "\n",
    "    return sorted_identifiers"
   ]
  },
  {
   "cell_type": "code",
   "execution_count": 75,
   "metadata": {},
   "outputs": [
    {
     "name": "stdout",
     "output_type": "stream",
     "text": [
      "[('i', 9), ('anArray', 6), ('length', 2), ('System', 2), ('out', 2), ('ArrayDemo', 1), ('main', 1), ('String', 1), ('args', 1), ('print', 1), ('println', 1)]\n"
     ]
    }
   ],
   "source": [
    "identifiers = get_identifiers('../../tests/test_files/test.java', 'java')\n",
    "print(identifiers)"
   ]
  },
  {
   "cell_type": "markdown",
   "metadata": {},
   "source": [
    "Write a function to transform the identifiers into a writeable format."
   ]
  },
  {
   "cell_type": "code",
   "execution_count": 76,
   "metadata": {},
   "outputs": [],
   "source": [
    "def transform_identifiers(identifiers: List) -> List[str]:\n",
    "    \"\"\"\n",
    "    Transform the original list of identifiers into the writable form.\n",
    "    :param identifiers: list of tuples, identifier and count.\n",
    "    :return: a list of identifiers in the writable for, \"identifier:count\".\n",
    "    \"\"\"\n",
    "    formatted_identifiers = []\n",
    "    for identifier in identifiers:\n",
    "        if identifier[0].rstrip() != '':  # Checking for occurring empty tokens.\n",
    "            formatted_identifiers.append(identifier[0].rstrip() + ':' + str(identifier[1]).rstrip())\n",
    "    return formatted_identifiers"
   ]
  },
  {
   "cell_type": "code",
   "execution_count": 77,
   "metadata": {},
   "outputs": [
    {
     "name": "stdout",
     "output_type": "stream",
     "text": [
      "['i:9', 'anArray:6', 'length:2', 'System:2', 'out:2', 'ArrayDemo:1', 'main:1', 'String:1', 'args:1', 'print:1', 'println:1']\n"
     ]
    }
   ],
   "source": [
    "formatted = transform_identifiers(identifiers)\n",
    "print (formatted)"
   ]
  },
  {
   "cell_type": "markdown",
   "metadata": {},
   "source": [
    "Write the main function that slices and tokenizes the repository."
   ]
  },
  {
   "cell_type": "code",
   "execution_count": 79,
   "metadata": {},
   "outputs": [],
   "source": [
    "def main(repository: str, number: int, delta: int, lang: str, output: str, output_info: str) -> None:\n",
    "    \"\"\"\n",
    "    Split the repository, parse the files, write the data into a file.\n",
    "    :param repository: path to the repository to process.\n",
    "    :param number: the amount of dates.\n",
    "    :param delta: the time step between dates\n",
    "    :param lang: language of parsing.\n",
    "    :param output: an output file.\n",
    "    :param output_info: a file for information about output (slice indexes).\n",
    "    :return: None.\n",
    "    \"\"\"\n",
    "    directory = os.path.abspath(os.path.join(repository, os.pardir, 'project_slices'))\n",
    "    os.mkdir(directory)\n",
    "    dates = get_dates(number, delta)\n",
    "    lists_of_files = {}\n",
    "    for date in dates:\n",
    "        subdirectory = os.path.abspath(os.path.join(directory, date.strftime('%Y-%m-%d')))\n",
    "        checkout_by_date(repository, subdirectory, date)\n",
    "        lists_of_files[date.strftime('%Y-%m-%d')] = get_a_list_of_files(subdirectory, get_extensions(lang))\n",
    "    indexes_of_slices = {}\n",
    "    count = 0\n",
    "    with open(output, 'w+') as fout:\n",
    "        for date in dates:\n",
    "            starting_index = count + 1\n",
    "            for file in lists_of_files[date.strftime('%Y-%m-%d')]:\n",
    "                if os.path.isfile(file):  # TODO: implement a better file-checking mechanism\n",
    "                    try:\n",
    "                        identifiers = get_identifiers(file, lang)\n",
    "                        if len(identifiers) != 0:\n",
    "                            count += 1\n",
    "                            formatted_identifiers = transform_identifiers(identifiers)\n",
    "                            fout.write(str(count) + ';' + file + ';' + ','.join(formatted_identifiers) + '\\n')\n",
    "                    except UnicodeDecodeError:\n",
    "                        continue\n",
    "            ending_index = count\n",
    "            indexes_of_slices[date.strftime('%Y-%m-%d')] = (starting_index, ending_index)\n",
    "    with open(output_info, 'w+') as fout:\n",
    "        for date in indexes_of_slices.keys():\n",
    "            fout.write(date + ';' + str(indexes_of_slices[date][0]) + ',' + str(indexes_of_slices[date][1]) + '\\n')"
   ]
  },
  {
   "cell_type": "code",
   "execution_count": 84,
   "metadata": {},
   "outputs": [],
   "source": [
    "main('/home/diannao/Documents/java-design-patterns/', 12, 31, 'java', \n",
    "     '/home/diannao/Documents/java-design-patterns.txt', '/home/diannao/Documents/java-design-patterns_info.txt')"
   ]
  },
  {
   "cell_type": "code",
   "execution_count": null,
   "metadata": {},
   "outputs": [],
   "source": []
  }
 ],
 "metadata": {
  "kernelspec": {
   "display_name": "Python 3",
   "language": "python",
   "name": "python3"
  },
  "language_info": {
   "codemirror_mode": {
    "name": "ipython",
    "version": 3
   },
   "file_extension": ".py",
   "mimetype": "text/x-python",
   "name": "python",
   "nbconvert_exporter": "python",
   "pygments_lexer": "ipython3",
   "version": "3.7.5"
  }
 },
 "nbformat": 4,
 "nbformat_minor": 4
}
