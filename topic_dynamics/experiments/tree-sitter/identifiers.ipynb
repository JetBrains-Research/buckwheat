{
 "cells": [
  {
   "cell_type": "markdown",
   "metadata": {},
   "source": [
    "Import necessary **modules**:"
   ]
  },
  {
   "cell_type": "code",
   "execution_count": 1,
   "metadata": {},
   "outputs": [],
   "source": [
    "from tree_sitter import Language, Parser"
   ]
  },
  {
   "cell_type": "markdown",
   "metadata": {},
   "source": [
    "Load the languages into the **Language** objects:"
   ]
  },
  {
   "cell_type": "code",
   "execution_count": 2,
   "metadata": {},
   "outputs": [],
   "source": [
    "JA_LANGUAGE = Language('../../tree-sitter/build/my-languages.so', 'java')"
   ]
  },
  {
   "cell_type": "markdown",
   "metadata": {},
   "source": [
    "Create the Java **parser**:"
   ]
  },
  {
   "cell_type": "code",
   "execution_count": 3,
   "metadata": {},
   "outputs": [],
   "source": [
    "parser = Parser()\n",
    "parser.set_language(JA_LANGUAGE)"
   ]
  },
  {
   "cell_type": "markdown",
   "metadata": {},
   "source": [
    "Parese some code:"
   ]
  },
  {
   "cell_type": "code",
   "execution_count": 4,
   "metadata": {},
   "outputs": [],
   "source": [
    "code = bytes(\"\"\"${RESOURCE_BUNDLE}.message(\"${PROPERTY_KEY}\")\"\"\", \"utf-8\")\n",
    "\n",
    "tree = parser.parse(code)\n",
    "root = tree.root_node"
   ]
  },
  {
   "cell_type": "markdown",
   "metadata": {},
   "source": [
    "Compile a list of **nodes of interest** (various identifiers) by scanning all the nodes in the parsing tree."
   ]
  },
  {
   "cell_type": "code",
   "execution_count": 5,
   "metadata": {},
   "outputs": [],
   "source": [
    "nodes_of_interest = []\n",
    "def addChildrenNodes(Node):\n",
    "    for child in Node.children:\n",
    "        if 'identifier' in child.type:\n",
    "            nodes_of_interest.append(child)\n",
    "        if len(child.children) != 0:\n",
    "            addChildrenNodes(child)\n",
    "addChildrenNodes(root)"
   ]
  },
  {
   "cell_type": "markdown",
   "metadata": {},
   "source": [
    "View the compiled identifiers:"
   ]
  },
  {
   "cell_type": "code",
   "execution_count": 6,
   "metadata": {},
   "outputs": [
    {
     "name": "stdout",
     "output_type": "stream",
     "text": [
      "identifier RESOURCE_BUNDLE\n",
      "identifier message\n"
     ]
    }
   ],
   "source": [
    "for i in nodes_of_interest:\n",
    "    print(i.type, code[i.start_byte:i.end_byte].decode('utf-8'))"
   ]
  }
 ],
 "metadata": {
  "kernelspec": {
   "display_name": "Python 3",
   "language": "python",
   "name": "python3"
  },
  "language_info": {
   "codemirror_mode": {
    "name": "ipython",
    "version": 3
   },
   "file_extension": ".py",
   "mimetype": "text/x-python",
   "name": "python",
   "nbconvert_exporter": "python",
   "pygments_lexer": "ipython3",
   "version": "3.7.5"
  }
 },
 "nbformat": 4,
 "nbformat_minor": 4
}
