{
 "cells": [
  {
   "cell_type": "markdown",
   "metadata": {},
   "source": [
    "Import necessary **modules**:"
   ]
  },
  {
   "cell_type": "code",
   "execution_count": 1,
   "metadata": {},
   "outputs": [],
   "source": [
    "%matplotlib inline\n",
    "import matplotlib.pyplot as plt\n",
    "\n",
    "import artm"
   ]
  },
  {
   "cell_type": "markdown",
   "metadata": {},
   "source": [
    "Create **batches** and the **dictionary**:"
   ]
  },
  {
   "cell_type": "code",
   "execution_count": 2,
   "metadata": {},
   "outputs": [],
   "source": [
    "batch_vectorizer = artm.BatchVectorizer(data_path='data/', data_format='bow_uci',\n",
    "                                        collection_name='kos', target_folder='data/kos_batches')\n",
    "dictionary = batch_vectorizer.dictionary"
   ]
  },
  {
   "cell_type": "markdown",
   "metadata": {},
   "source": [
    "Create **models**. **ARTM** is **PLSA** with regularizations."
   ]
  },
  {
   "cell_type": "code",
   "execution_count": 3,
   "metadata": {},
   "outputs": [],
   "source": [
    "topic_names = ['topic_{}'.format(i) for i in range(15)]\n",
    "\n",
    "model_plsa = artm.ARTM(topic_names=topic_names, cache_theta=True,\n",
    "                       scores=[artm.PerplexityScore(name='PerplexityScore',\n",
    "                                                    dictionary=dictionary)])\n",
    "\n",
    "model_artm = artm.ARTM(topic_names=topic_names, cache_theta=True,\n",
    "                       scores=[artm.PerplexityScore(name='PerplexityScore',\n",
    "                                                    dictionary=dictionary)],\n",
    "                       regularizers=[artm.SmoothSparseThetaRegularizer(name='SparseTheta',\n",
    "                                                                       tau=-0.15)])"
   ]
  },
  {
   "cell_type": "markdown",
   "metadata": {},
   "source": [
    "Add **scores**:"
   ]
  },
  {
   "cell_type": "code",
   "execution_count": 4,
   "metadata": {},
   "outputs": [],
   "source": [
    "model_plsa.scores.add(artm.SparsityPhiScore(name='SparsityPhiScore'))\n",
    "model_plsa.scores.add(artm.SparsityThetaScore(name='SparsityThetaScore'))\n",
    "model_plsa.scores.add(artm.TopicKernelScore(name='TopicKernelScore',\n",
    "                                            probability_mass_threshold=0.3))\n",
    "\n",
    "model_artm.scores.add(artm.SparsityPhiScore(name='SparsityPhiScore'))\n",
    "model_artm.scores.add(artm.SparsityThetaScore(name='SparsityThetaScore'))\n",
    "model_artm.scores.add(artm.TopicKernelScore(name='TopicKernelScore',\n",
    "                                                  probability_mass_threshold=0.3))"
   ]
  },
  {
   "cell_type": "markdown",
   "metadata": {},
   "source": [
    "Add **regularizers** for ARTM model:"
   ]
  },
  {
   "cell_type": "code",
   "execution_count": 5,
   "metadata": {},
   "outputs": [],
   "source": [
    "model_artm.regularizers.add(artm.SmoothSparsePhiRegularizer(name='SparsePhi', tau=-0.1))\n",
    "model_artm.regularizers.add(artm.DecorrelatorPhiRegularizer(name='DecorrelatorPhi', tau=1.5e+5))"
   ]
  },
  {
   "cell_type": "markdown",
   "metadata": {},
   "source": [
    "**Learn** the model:"
   ]
  },
  {
   "cell_type": "code",
   "execution_count": 6,
   "metadata": {},
   "outputs": [],
   "source": [
    "model_plsa.num_document_passes = 1\n",
    "model_artm.num_document_passes = 1\n",
    "\n",
    "model_plsa.initialize(dictionary=dictionary)\n",
    "model_artm.initialize(dictionary=dictionary)\n",
    "\n",
    "model_plsa.fit_offline(batch_vectorizer=batch_vectorizer, num_collection_passes=15)\n",
    "model_artm.fit_offline(batch_vectorizer=batch_vectorizer, num_collection_passes=15)"
   ]
  },
  {
   "cell_type": "markdown",
   "metadata": {},
   "source": [
    "Compare the scores:"
   ]
  },
  {
   "cell_type": "code",
   "execution_count": 7,
   "metadata": {},
   "outputs": [
    {
     "name": "stdout",
     "output_type": "stream",
     "text": [
      "Sparsity Phi: 0.000 (PLSA) vs. 0.469 (ARTM)\n",
      "Sparsity Theta: 0.000 (PLSA) vs. 0.001 (ARTM)\n",
      "Kernel contrast: 0.466 (PLSA) vs. 0.525 (ARTM)\n",
      "Kernel purity: 0.215 (PLSA) vs. 0.359 (ARTM)\n",
      "Perplexity: 2058.028 (PLSA) vs. 1950.715 (ARTM)\n"
     ]
    },
    {
     "data": {
      "image/png": "[encoded data removed]",
      "text/plain": [
       "<Figure size 432x288 with 1 Axes>"
      ]
     },
     "metadata": {
      "needs_background": "light"
     },
     "output_type": "display_data"
    }
   ],
   "source": [
    "def print_measures(model_plsa, model_artm):\n",
    "    print ('Sparsity Phi: {0:.3f} (PLSA) vs. {1:.3f} (ARTM)'.format(\n",
    "        model_plsa.score_tracker['SparsityPhiScore'].last_value,\n",
    "        model_artm.score_tracker['SparsityPhiScore'].last_value))\n",
    "\n",
    "    print ('Sparsity Theta: {0:.3f} (PLSA) vs. {1:.3f} (ARTM)'.format(\n",
    "        model_plsa.score_tracker['SparsityThetaScore'].last_value,\n",
    "        model_artm.score_tracker['SparsityThetaScore'].last_value))\n",
    "\n",
    "    print ('Kernel contrast: {0:.3f} (PLSA) vs. {1:.3f} (ARTM)'.format(\n",
    "        model_plsa.score_tracker['TopicKernelScore'].last_average_contrast,\n",
    "        model_artm.score_tracker['TopicKernelScore'].last_average_contrast))\n",
    "\n",
    "    print ('Kernel purity: {0:.3f} (PLSA) vs. {1:.3f} (ARTM)'.format(\n",
    "        model_plsa.score_tracker['TopicKernelScore'].last_average_purity,\n",
    "        model_artm.score_tracker['TopicKernelScore'].last_average_purity))\n",
    "\n",
    "    print ('Perplexity: {0:.3f} (PLSA) vs. {1:.3f} (ARTM)'.format(\n",
    "        model_plsa.score_tracker['PerplexityScore'].last_value,\n",
    "        model_artm.score_tracker['PerplexityScore'].last_value))\n",
    "\n",
    "    plt.plot(range(model_plsa.num_phi_updates),\n",
    "             model_plsa.score_tracker['PerplexityScore'].value, 'b--',\n",
    "             range(model_artm.num_phi_updates),\n",
    "             model_artm.score_tracker['PerplexityScore'].value, 'r--', linewidth=2)\n",
    "    plt.xlabel('Iterations count')\n",
    "    plt.ylabel('PLSA perp. (blue), ARTM perp. (red)')\n",
    "    plt.grid(True)\n",
    "    plt.show()\n",
    "\n",
    "print_measures(model_plsa, model_artm)"
   ]
  },
  {
   "cell_type": "markdown",
   "metadata": {},
   "source": [
    "Increase the values of regularization coefficients:"
   ]
  },
  {
   "cell_type": "code",
   "execution_count": 8,
   "metadata": {},
   "outputs": [],
   "source": [
    "model_artm.regularizers['SparsePhi'].tau = -0.2\n",
    "model_artm.regularizers['SparseTheta'].tau = -0.2\n",
    "model_artm.regularizers['DecorrelatorPhi'].tau = 2.5e+5"
   ]
  },
  {
   "cell_type": "markdown",
   "metadata": {},
   "source": [
    "Add a score of the **most probable topics**:"
   ]
  },
  {
   "cell_type": "code",
   "execution_count": 9,
   "metadata": {},
   "outputs": [],
   "source": [
    "model_plsa.scores.add(artm.TopTokensScore(name='TopTokensScore', num_tokens=6))\n",
    "model_artm.scores.add(artm.TopTokensScore(name='TopTokensScore', num_tokens=6))"
   ]
  },
  {
   "cell_type": "markdown",
   "metadata": {},
   "source": [
    "Retrain the models, compare scores again:"
   ]
  },
  {
   "cell_type": "code",
   "execution_count": 10,
   "metadata": {},
   "outputs": [
    {
     "name": "stdout",
     "output_type": "stream",
     "text": [
      "Sparsity Phi: 0.093 (PLSA) vs. 0.841 (ARTM)\n",
      "Sparsity Theta: 0.000 (PLSA) vs. 0.023 (ARTM)\n",
      "Kernel contrast: 0.640 (PLSA) vs. 0.740 (ARTM)\n",
      "Kernel purity: 0.674 (PLSA) vs. 0.822 (ARTM)\n",
      "Perplexity: 1619.034 (PLSA) vs. 1644.218 (ARTM)\n"
     ]
    },
    {
     "data": {
      "image/png": "[encoded data removed]",
      "text/plain": [
       "<Figure size 432x288 with 1 Axes>"
      ]
     },
     "metadata": {
      "needs_background": "light"
     },
     "output_type": "display_data"
    }
   ],
   "source": [
    "model_plsa.fit_offline(batch_vectorizer=batch_vectorizer, num_collection_passes=25)\n",
    "model_artm.fit_offline(batch_vectorizer=batch_vectorizer, num_collection_passes=25)\n",
    "\n",
    "print_measures(model_plsa, model_artm)"
   ]
  },
  {
   "cell_type": "markdown",
   "metadata": {},
   "source": [
    "Plot the changes in matrices by itertaions:"
   ]
  },
  {
   "cell_type": "code",
   "execution_count": 11,
   "metadata": {},
   "outputs": [
    {
     "data": {
      "image/png": "[encoded data removed]",
      "text/plain": [
       "<Figure size 432x288 with 1 Axes>"
      ]
     },
     "metadata": {
      "needs_background": "light"
     },
     "output_type": "display_data"
    },
    {
     "data": {
      "image/png": "[encoded data removed]",
      "text/plain": [
       "<Figure size 432x288 with 1 Axes>"
      ]
     },
     "metadata": {
      "needs_background": "light"
     },
     "output_type": "display_data"
    }
   ],
   "source": [
    "plt.plot(range(model_plsa.num_phi_updates),\n",
    "         model_plsa.score_tracker['SparsityPhiScore'].value, 'b--',\n",
    "         range(model_artm.num_phi_updates),\n",
    "         model_artm.score_tracker['SparsityPhiScore'].value, 'r--', linewidth=2)\n",
    "\n",
    "plt.xlabel('Iterations count')\n",
    "plt.ylabel('PLSA Phi sp. (blue), ARTM Phi sp. (red)')\n",
    "plt.grid(True)\n",
    "plt.show()\n",
    "\n",
    "plt.plot(range(model_plsa.num_phi_updates),\n",
    "         model_plsa.score_tracker['SparsityThetaScore'].value, 'b--',\n",
    "         range(model_artm.num_phi_updates),\n",
    "         model_artm.score_tracker['SparsityThetaScore'].value, 'r--', linewidth=2)\n",
    "\n",
    "plt.xlabel('Iterations count')\n",
    "plt.ylabel('PLSA Theta sp. (blue), ARTM Theta sp. (red)')\n",
    "plt.grid(True)\n",
    "plt.show()"
   ]
  },
  {
   "cell_type": "markdown",
   "metadata": {},
   "source": [
    "Look at the **most probable topics** in PLSA:"
   ]
  },
  {
   "cell_type": "code",
   "execution_count": 12,
   "metadata": {},
   "outputs": [
    {
     "name": "stdout",
     "output_type": "stream",
     "text": [
      "topic_0: \n",
      "['year', 'tax', 'jobs', 'america', 'president', 'issues']\n",
      "topic_1: \n",
      "['people', 'war', 'service', 'military', 'rights', 'vietnam']\n",
      "topic_2: \n",
      "['november', 'electoral', 'account', 'polls', 'governor', 'contact']\n",
      "topic_3: \n",
      "['republican', 'gop', 'senate', 'senator', 'south', 'conservative']\n",
      "topic_4: \n",
      "['people', 'time', 'country', 'speech', 'talking', 'read']\n",
      "topic_5: \n",
      "['dean', 'democratic', 'edwards', 'primary', 'kerry', 'clark']\n",
      "topic_6: \n",
      "['state', 'party', 'race', 'candidates', 'candidate', 'elections']\n",
      "topic_7: \n",
      "['administration', 'president', 'years', 'bill', 'white', 'cheney']\n",
      "topic_8: \n",
      "['campaign', 'national', 'media', 'local', 'late', 'union']\n",
      "topic_9: \n",
      "['house', 'million', 'money', 'republican', 'committee', 'delay']\n",
      "topic_10: \n",
      "['republicans', 'vote', 'senate', 'election', 'democrats', 'house']\n",
      "topic_11: \n",
      "['iraq', 'war', 'american', 'iraqi', 'military', 'intelligence']\n",
      "topic_12: \n",
      "['kerry', 'poll', 'percent', 'voters', 'polls', 'numbers']\n",
      "topic_13: \n",
      "['news', 'time', 'asked', 'political', 'washington', 'long']\n",
      "topic_14: \n",
      "['bush', 'general', 'bushs', 'kerry', 'oct', 'states']\n"
     ]
    }
   ],
   "source": [
    "for topic_name in model_plsa.topic_names:\n",
    "    print (topic_name + ': ',)\n",
    "    print (model_plsa.score_tracker['TopTokensScore'].last_tokens[topic_name])"
   ]
  },
  {
   "cell_type": "markdown",
   "metadata": {},
   "source": [
    "Look at the **most probable topics** in ARTA:"
   ]
  },
  {
   "cell_type": "code",
   "execution_count": 13,
   "metadata": {},
   "outputs": [
    {
     "name": "stdout",
     "output_type": "stream",
     "text": [
      "topic_0: \n",
      "['party', 'political', 'issue', 'tax', 'america', 'issues']\n",
      "topic_1: \n",
      "['people', 'military', 'official', 'officials', 'service', 'public']\n",
      "topic_2: \n",
      "['electoral', 'governor', 'account', 'contact', 'ticket', 'experience']\n",
      "topic_3: \n",
      "['gop', 'convention', 'senator', 'debate', 'south', 'sen']\n",
      "topic_4: \n",
      "['country', 'speech', 'bad', 'read', 'end', 'talking']\n",
      "topic_5: \n",
      "['democratic', 'dean', 'john', 'edwards', 'primary', 'clark']\n",
      "topic_6: \n",
      "['percent', 'race', 'candidates', 'candidate', 'win', 'nader']\n",
      "topic_7: \n",
      "['administration', 'years', 'white', 'year', 'bill', 'jobs']\n",
      "topic_8: \n",
      "['campaign', 'national', 'media', 'press', 'local', 'ads']\n",
      "topic_9: \n",
      "['house', 'republican', 'million', 'money', 'elections', 'district']\n",
      "topic_10: \n",
      "['november', 'poll', 'senate', 'republicans', 'vote', 'election']\n",
      "topic_11: \n",
      "['iraq', 'war', 'american', 'iraqi', 'security', 'united']\n",
      "topic_12: \n",
      "['bush', 'kerry', 'general', 'president', 'voters', 'bushs']\n",
      "topic_13: \n",
      "['time', 'news', 'long', 'asked', 'washington', 'political']\n",
      "topic_14: \n",
      "['state', 'states', 'people', 'oct', 'fact', 'ohio']\n"
     ]
    }
   ],
   "source": [
    "for topic_name in model_artm.topic_names:\n",
    "    print (topic_name + ': ',)\n",
    "    print (model_artm.score_tracker['TopTokensScore'].last_tokens[topic_name])"
   ]
  }
 ],
 "metadata": {
  "kernelspec": {
   "display_name": "Python 3",
   "language": "python",
   "name": "python3"
  },
  "language_info": {
   "codemirror_mode": {
    "name": "ipython",
    "version": 3
   },
   "file_extension": ".py",
   "mimetype": "text/x-python",
   "name": "python",
   "nbconvert_exporter": "python",
   "pygments_lexer": "ipython3",
   "version": "3.7.5"
  }
 },
 "nbformat": 4,
 "nbformat_minor": 4
}
